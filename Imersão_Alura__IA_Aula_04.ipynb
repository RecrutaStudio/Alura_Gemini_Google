{
  "cells": [
    {
      "cell_type": "markdown",
      "metadata": {
        "id": "view-in-github",
        "colab_type": "text"
      },
      "source": [
        "<a href=\"https://colab.research.google.com/github/RecrutaStudio/Alura_Gemini_Google/blob/main/Imers%C3%A3o_Alura__IA_Aula_04.ipynb\" target=\"_parent\"><img src=\"https://colab.research.google.com/assets/colab-badge.svg\" alt=\"Open In Colab\"/></a>"
      ]
    },
    {
      "cell_type": "code",
      "execution_count": 12,
      "metadata": {
        "id": "nFQLKQ6hfXch"
      },
      "outputs": [],
      "source": [
        "#Instalando o SDK do Google\n",
        "!pip install -q -U google-generativeai"
      ]
    },
    {
      "cell_type": "code",
      "execution_count": 13,
      "metadata": {
        "id": "IthzwfnAfcsi"
      },
      "outputs": [],
      "source": [
        "#Configurações iniciais\n",
        "import google.generativeai as genai\n",
        "from google.colab import userdata\n",
        "api_key = userdata.get('secret_key')\n",
        "genai.configure(api_key=api_key)"
      ]
    },
    {
      "cell_type": "code",
      "execution_count": 14,
      "metadata": {
        "colab": {
          "base_uri": "https://localhost:8080/",
          "height": 139
        },
        "id": "iD3ihugymWBt",
        "outputId": "80036ce9-0883-45d8-fa0f-8534ed4b1e93"
      },
      "outputs": [
        {
          "output_type": "stream",
          "name": "stdout",
          "text": [
            "models/gemini-1.0-pro\n",
            "models/gemini-1.0-pro-001\n",
            "models/gemini-1.0-pro-latest\n",
            "models/gemini-1.0-pro-vision-latest\n",
            "models/gemini-1.5-pro-latest\n",
            "models/gemini-pro\n",
            "models/gemini-pro-vision\n"
          ]
        }
      ],
      "source": [
        "#Listando os modelos disponíveis\n",
        "for m in genai.list_models():\n",
        "  if 'generateContent' in m.supported_generation_methods:\n",
        "    print(m.name)"
      ]
    },
    {
      "cell_type": "code",
      "execution_count": 15,
      "metadata": {
        "id": "O1ochaeyDn_o"
      },
      "outputs": [],
      "source": [
        "generation_config = {\n",
        "  \"candidate_count\": 1,\n",
        "  \"temperature\": 0.5,\n",
        "}"
      ]
    },
    {
      "cell_type": "code",
      "execution_count": 24,
      "metadata": {
        "id": "jwBv7DofDofw"
      },
      "outputs": [],
      "source": [
        "safety_settings={\n",
        "    'HARASSMENT': 'BLOCK_NONE',\n",
        "    'SEXUAL' : 'BLOCK_NONE',\n",
        "    'DANGEROUS' : 'BLOCK_NONE',\n",
        "    'HATE': 'BLOCK_NONE'\n",
        "    }"
      ]
    },
    {
      "cell_type": "code",
      "execution_count": 17,
      "metadata": {
        "id": "NIiSs1R5mVJE"
      },
      "outputs": [],
      "source": [
        "model = genai.GenerativeModel(model_name='gemini-1.0-pro',\n",
        "                                  generation_config=generation_config,\n",
        "                                  safety_settings=safety_settings,)"
      ]
    },
    {
      "cell_type": "code",
      "execution_count": 18,
      "metadata": {
        "colab": {
          "base_uri": "https://localhost:8080/",
          "height": 1000
        },
        "id": "vrRjhT2rlrU_",
        "outputId": "65089cca-d005-4380-a03a-90f9db637636"
      },
      "outputs": [
        {
          "output_type": "stream",
          "name": "stdout",
          "text": [
            "**Escolas de Programação Online Mais Bem Avaliadas do Brasil**\n",
            "\n",
            "**1. Alura**\n",
            "\n",
            "* Ampla gama de cursos em diversas áreas de programação\n",
            "* Conteúdo de alta qualidade e atualizado\n",
            "* Comunidade ativa e suporte personalizado\n",
            "\n",
            "**2. Digital Innovation One (DIO)**\n",
            "\n",
            "* Foco em programação para o mercado de trabalho\n",
            "* Cursos práticos e projetos reais\n",
            "* Parcerias com empresas de tecnologia\n",
            "\n",
            "**3. Rocketseat**\n",
            "\n",
            "* Cursos modernos e interativos\n",
            "* Comunidade engajada e suporte técnico\n",
            "* Desafios e projetos práticos\n",
            "\n",
            "**4. Udemy**\n",
            "\n",
            "* Grande variedade de cursos de programação\n",
            "* Instrutores experientes e conteúdo de qualidade\n",
            "* Preços acessíveis\n",
            "\n",
            "**5. Coursera**\n",
            "\n",
            "* Cursos de universidades e empresas de renome\n",
            "* Certificados reconhecidos pelo mercado\n",
            "* Opções de especialização e mestrado\n",
            "\n",
            "**6. edX**\n",
            "\n",
            "* Cursos de instituições como MIT e Harvard\n",
            "* Conteúdo rigoroso e de nível universitário\n",
            "* Certificados verificados\n",
            "\n",
            "**7. Codecademy**\n",
            "\n",
            "* Plataforma interativa para aprender programação\n",
            "* Exercícios práticos e projetos guiados\n",
            "* Conteúdo gratuito e pago\n",
            "\n",
            "**8. Treehouse**\n",
            "\n",
            "* Cursos abrangentes em diversas linguagens de programação\n",
            "* Projetos práticos e suporte técnico\n",
            "* Comunidade ativa e recursos de aprendizagem\n",
            "\n",
            "**9. Udemy Business**\n",
            "\n",
            "* Biblioteca de cursos de programação para empresas\n",
            "* Cursos personalizados e acesso a especialistas\n",
            "* Integração com sistemas de gestão de aprendizagem\n",
            "\n",
            "**10. Pluralsight**\n",
            "\n",
            "* Ampla biblioteca de cursos de tecnologia\n",
            "* Conteúdo de alta qualidade e instrutores experientes\n",
            "* Certificados reconhecidos pelo mercado\n",
            "\n",
            "A melhor escola de programação online para você dependerá de suas necessidades e objetivos específicos. Considere fatores como o escopo do curso, a qualidade do conteúdo, o suporte disponível e o custo. Pesquise e compare diferentes escolas antes de tomar uma decisão.\n"
          ]
        }
      ],
      "source": [
        "response = model.generate_content(\"Qual melhor escola de programação online do Brasil?\")\n",
        "print(response.text)"
      ]
    },
    {
      "cell_type": "code",
      "execution_count": null,
      "metadata": {
        "colab": {
          "base_uri": "https://localhost:8080/",
          "height": 125
        },
        "id": "KpaQ6hm5f2_J",
        "outputId": "1385d3dc-d158-4ae6-961d-b717cae7d193"
      },
      "outputs": [
        {
          "output_type": "stream",
          "name": "stdout",
          "text": [
            "Esperando prompt: Oi\n",
            "Resposta: Olá, como posso ajudá-lo? \n",
            "\n",
            "\n"
          ]
        }
      ],
      "source": [
        "chat = model.start_chat(history=[])\n",
        "\n",
        "prompt = input('Esperando prompt: ')\n",
        "\n",
        "while prompt != \"Fim\":\n",
        "  response = chat.send_message(prompt)\n",
        "  print(\"Resposta:\", response.text, '\\n\\n')\n",
        "  prompt = input('Esperando prompt: ')"
      ]
    },
    {
      "cell_type": "code",
      "execution_count": null,
      "metadata": {
        "id": "XLAniTTDhHNW"
      },
      "outputs": [],
      "source": [
        "chat"
      ]
    },
    {
      "cell_type": "code",
      "execution_count": null,
      "metadata": {
        "id": "sd8mvW9KghTf"
      },
      "outputs": [],
      "source": [
        "chat.history"
      ]
    },
    {
      "cell_type": "code",
      "execution_count": null,
      "metadata": {
        "id": "dAcbPBocgzeX"
      },
      "outputs": [],
      "source": [
        "#Melhorando a visualização\n",
        "#Código disponível em https://ai.google.dev/tutorials/python_quickstart#import_packages\n",
        "import textwrap\n",
        "from IPython.display import display\n",
        "from IPython.display import Markdown\n",
        "\n",
        "def to_markdown(text):\n",
        "  text = text.replace('•', '  *')\n",
        "  return Markdown(textwrap.indent(text, '> ', predicate=lambda _: True))\n",
        "\n",
        "#Imprimindo o histórico\n",
        "for message in chat.history:\n",
        "  display(to_markdown(f'**{message.role}**: {message.parts[0].text}'))\n",
        "  print('-------------------------------------------')"
      ]
    }
  ],
  "metadata": {
    "colab": {
      "provenance": [],
      "include_colab_link": true
    },
    "kernelspec": {
      "display_name": "Python 3",
      "name": "python3"
    },
    "language_info": {
      "name": "python"
    }
  },
  "nbformat": 4,
  "nbformat_minor": 0
}